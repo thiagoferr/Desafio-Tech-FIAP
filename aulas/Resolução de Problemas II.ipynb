{
 "cells": [
  {
   "cell_type": "markdown",
   "id": "bdfe6c01",
   "metadata": {},
   "source": [
    "### Listas"
   ]
  },
  {
   "cell_type": "code",
   "execution_count": 1,
   "id": "16d53c41",
   "metadata": {},
   "outputs": [
    {
     "name": "stdout",
     "output_type": "stream",
     "text": [
      "26.8 ms ± 1.66 ms per loop (mean ± std. dev. of 7 runs, 10 loops each)\n"
     ]
    }
   ],
   "source": [
    "lista1 = []\n",
    "%timeit lista1 = list(range(1,1000000))"
   ]
  },
  {
   "cell_type": "code",
   "execution_count": 2,
   "id": "590b30f4",
   "metadata": {},
   "outputs": [
    {
     "name": "stdout",
     "output_type": "stream",
     "text": [
      "114 ms ± 7.5 ms per loop (mean ± std. dev. of 7 runs, 10 loops each)\n"
     ]
    }
   ],
   "source": [
    "lista2 = []\n",
    "def f(n):\n",
    "    for i in range(1,n):\n",
    "        lista2.append(i)\n",
    "%timeit f(1000000)"
   ]
  },
  {
   "cell_type": "code",
   "execution_count": 3,
   "id": "f96cd5cf",
   "metadata": {},
   "outputs": [
    {
     "name": "stdout",
     "output_type": "stream",
     "text": [
      "109 ms ± 3.36 ms per loop (mean ± std. dev. of 7 runs, 10 loops each)\n"
     ]
    }
   ],
   "source": [
    "def f(n):\n",
    "    lista3=[]\n",
    "    for i in range(1,n):\n",
    "        lista3 += [i]\n",
    "    return lista3\n",
    "%timeit f(1000000)"
   ]
  },
  {
   "cell_type": "code",
   "execution_count": 4,
   "id": "8b117601",
   "metadata": {},
   "outputs": [],
   "source": [
    "import numpy as np"
   ]
  },
  {
   "cell_type": "code",
   "execution_count": 5,
   "id": "dd70eed9",
   "metadata": {},
   "outputs": [
    {
     "name": "stdout",
     "output_type": "stream",
     "text": [
      "88.7 ms ± 1.01 ms per loop (mean ± std. dev. of 7 runs, 10 loops each)\n"
     ]
    }
   ],
   "source": [
    "%timeit np.array(range(1,1000000))"
   ]
  },
  {
   "cell_type": "code",
   "execution_count": 6,
   "id": "1d3fda6a",
   "metadata": {},
   "outputs": [
    {
     "name": "stdout",
     "output_type": "stream",
     "text": [
      "95.3 ms ± 8.52 ms per loop (mean ± std. dev. of 7 runs, 10 loops each)\n"
     ]
    }
   ],
   "source": [
    "%timeit lista4 = np.array(range(1,1000000))"
   ]
  },
  {
   "cell_type": "code",
   "execution_count": 7,
   "id": "0337f0c0",
   "metadata": {},
   "outputs": [
    {
     "name": "stdout",
     "output_type": "stream",
     "text": [
      "321 ns ± 24.5 ns per loop (mean ± std. dev. of 7 runs, 1,000,000 loops each)\n"
     ]
    }
   ],
   "source": [
    "f_lambda = lambda n: range(1,n)\n",
    "%timeit f_lambda(1000000)"
   ]
  },
  {
   "cell_type": "code",
   "execution_count": 8,
   "id": "a702617d",
   "metadata": {},
   "outputs": [],
   "source": [
    "import pandas as pd\n",
    "import matplotlib.pyplot as plt\n",
    "import seaborn as sns"
   ]
  },
  {
   "cell_type": "code",
   "execution_count": 9,
   "id": "dfbbe122",
   "metadata": {},
   "outputs": [],
   "source": [
    "demo_br = pd.read_csv('C:/Users/user/Downloads/Brazil-2022.csv')"
   ]
  },
  {
   "cell_type": "code",
   "execution_count": 10,
   "id": "cb534854",
   "metadata": {},
   "outputs": [],
   "source": [
    "demo_br_melt = demo_br.melt(id_vars='Age', value_vars=['M', 'F'], var_name='Sexo', value_name='Quantidade')\n",
    "demo_br_melt.columns = ['Idade', 'Sexo', 'Quantidade']"
   ]
  },
  {
   "cell_type": "code",
   "execution_count": 11,
   "id": "5afff505",
   "metadata": {},
   "outputs": [],
   "source": [
    "demo_br_melt['Sexo'] = demo_br_melt['Sexo'].str.replace('M', 'Homens').str.replace('F', 'Mulheres')"
   ]
  },
  {
   "cell_type": "code",
   "execution_count": 12,
   "id": "d1d47174",
   "metadata": {},
   "outputs": [],
   "source": [
    "masc, fem = demo_br_melt.groupby('Sexo')['Quantidade'].sum()\n",
    "total = masc+fem\n",
    "percentual_masc = demo_br_melt[demo_br_melt['Sexo'] == \"Homens\"]['Quantidade'].apply(lambda x: round((x/total)*100,1))\n",
    "percentual_fem = demo_br_melt[demo_br_melt['Sexo'] == \"Mulheres\"]['Quantidade'].apply(lambda x: round((x/total)*100,1))"
   ]
  },
  {
   "cell_type": "code",
   "execution_count": 13,
   "id": "acea6753",
   "metadata": {},
   "outputs": [
    {
     "data": {
      "text/html": [
       "<div>\n",
       "<style scoped>\n",
       "    .dataframe tbody tr th:only-of-type {\n",
       "        vertical-align: middle;\n",
       "    }\n",
       "\n",
       "    .dataframe tbody tr th {\n",
       "        vertical-align: top;\n",
       "    }\n",
       "\n",
       "    .dataframe thead th {\n",
       "        text-align: right;\n",
       "    }\n",
       "</style>\n",
       "<table border=\"1\" class=\"dataframe\">\n",
       "  <thead>\n",
       "    <tr style=\"text-align: right;\">\n",
       "      <th></th>\n",
       "      <th>Idade</th>\n",
       "      <th>Sexo</th>\n",
       "      <th>Quantidade</th>\n",
       "    </tr>\n",
       "  </thead>\n",
       "  <tbody>\n",
       "    <tr>\n",
       "      <th>0</th>\n",
       "      <td>0-4</td>\n",
       "      <td>Homens</td>\n",
       "      <td>7171418</td>\n",
       "    </tr>\n",
       "    <tr>\n",
       "      <th>1</th>\n",
       "      <td>5-9</td>\n",
       "      <td>Homens</td>\n",
       "      <td>7463198</td>\n",
       "    </tr>\n",
       "    <tr>\n",
       "      <th>2</th>\n",
       "      <td>10-14</td>\n",
       "      <td>Homens</td>\n",
       "      <td>7623543</td>\n",
       "    </tr>\n",
       "    <tr>\n",
       "      <th>3</th>\n",
       "      <td>15-19</td>\n",
       "      <td>Homens</td>\n",
       "      <td>7989653</td>\n",
       "    </tr>\n",
       "    <tr>\n",
       "      <th>4</th>\n",
       "      <td>20-24</td>\n",
       "      <td>Homens</td>\n",
       "      <td>8516657</td>\n",
       "    </tr>\n",
       "  </tbody>\n",
       "</table>\n",
       "</div>"
      ],
      "text/plain": [
       "   Idade    Sexo  Quantidade\n",
       "0    0-4  Homens     7171418\n",
       "1    5-9  Homens     7463198\n",
       "2  10-14  Homens     7623543\n",
       "3  15-19  Homens     7989653\n",
       "4  20-24  Homens     8516657"
      ]
     },
     "execution_count": 13,
     "metadata": {},
     "output_type": "execute_result"
    }
   ],
   "source": [
    "# demo_br_melt['%'] = pd.concat([percentual_masc, percentual_fem], ignore_index=True)\n",
    "demo_br_melt.head()"
   ]
  },
  {
   "cell_type": "code",
   "execution_count": 14,
   "id": "747eac76",
   "metadata": {},
   "outputs": [],
   "source": [
    "demo_br_pivot=0\n",
    "demo_br_pivot = demo_br_melt.copy()"
   ]
  },
  {
   "cell_type": "code",
   "execution_count": 15,
   "id": "66440017",
   "metadata": {},
   "outputs": [
    {
     "data": {
      "text/html": [
       "<div>\n",
       "<style scoped>\n",
       "    .dataframe tbody tr th:only-of-type {\n",
       "        vertical-align: middle;\n",
       "    }\n",
       "\n",
       "    .dataframe tbody tr th {\n",
       "        vertical-align: top;\n",
       "    }\n",
       "\n",
       "    .dataframe thead th {\n",
       "        text-align: right;\n",
       "    }\n",
       "</style>\n",
       "<table border=\"1\" class=\"dataframe\">\n",
       "  <thead>\n",
       "    <tr style=\"text-align: right;\">\n",
       "      <th></th>\n",
       "      <th>Age</th>\n",
       "      <th>M</th>\n",
       "      <th>F</th>\n",
       "    </tr>\n",
       "  </thead>\n",
       "  <tbody>\n",
       "    <tr>\n",
       "      <th>0</th>\n",
       "      <td>0-4</td>\n",
       "      <td>7171418</td>\n",
       "      <td>6885774</td>\n",
       "    </tr>\n",
       "    <tr>\n",
       "      <th>2</th>\n",
       "      <td>10-14</td>\n",
       "      <td>7623543</td>\n",
       "      <td>7332483</td>\n",
       "    </tr>\n",
       "    <tr>\n",
       "      <th>20</th>\n",
       "      <td>100+</td>\n",
       "      <td>375</td>\n",
       "      <td>1923</td>\n",
       "    </tr>\n",
       "    <tr>\n",
       "      <th>3</th>\n",
       "      <td>15-19</td>\n",
       "      <td>7989653</td>\n",
       "      <td>7712959</td>\n",
       "    </tr>\n",
       "    <tr>\n",
       "      <th>4</th>\n",
       "      <td>20-24</td>\n",
       "      <td>8516657</td>\n",
       "      <td>8288782</td>\n",
       "    </tr>\n",
       "    <tr>\n",
       "      <th>5</th>\n",
       "      <td>25-29</td>\n",
       "      <td>8611856</td>\n",
       "      <td>8454540</td>\n",
       "    </tr>\n",
       "    <tr>\n",
       "      <th>6</th>\n",
       "      <td>30-34</td>\n",
       "      <td>8630945</td>\n",
       "      <td>8562379</td>\n",
       "    </tr>\n",
       "    <tr>\n",
       "      <th>7</th>\n",
       "      <td>35-39</td>\n",
       "      <td>8724477</td>\n",
       "      <td>8776387</td>\n",
       "    </tr>\n",
       "    <tr>\n",
       "      <th>8</th>\n",
       "      <td>40-44</td>\n",
       "      <td>8119996</td>\n",
       "      <td>8339004</td>\n",
       "    </tr>\n",
       "    <tr>\n",
       "      <th>9</th>\n",
       "      <td>45-49</td>\n",
       "      <td>7075746</td>\n",
       "      <td>7421165</td>\n",
       "    </tr>\n",
       "    <tr>\n",
       "      <th>1</th>\n",
       "      <td>5-9</td>\n",
       "      <td>7463198</td>\n",
       "      <td>7170449</td>\n",
       "    </tr>\n",
       "    <tr>\n",
       "      <th>10</th>\n",
       "      <td>50-54</td>\n",
       "      <td>6257318</td>\n",
       "      <td>6716401</td>\n",
       "    </tr>\n",
       "    <tr>\n",
       "      <th>11</th>\n",
       "      <td>55-59</td>\n",
       "      <td>5685899</td>\n",
       "      <td>6282244</td>\n",
       "    </tr>\n",
       "    <tr>\n",
       "      <th>12</th>\n",
       "      <td>60-64</td>\n",
       "      <td>4762891</td>\n",
       "      <td>5471441</td>\n",
       "    </tr>\n",
       "    <tr>\n",
       "      <th>13</th>\n",
       "      <td>65-69</td>\n",
       "      <td>3619199</td>\n",
       "      <td>4383537</td>\n",
       "    </tr>\n",
       "    <tr>\n",
       "      <th>14</th>\n",
       "      <td>70-74</td>\n",
       "      <td>2559006</td>\n",
       "      <td>3314890</td>\n",
       "    </tr>\n",
       "    <tr>\n",
       "      <th>15</th>\n",
       "      <td>75-79</td>\n",
       "      <td>1597921</td>\n",
       "      <td>2188597</td>\n",
       "    </tr>\n",
       "    <tr>\n",
       "      <th>16</th>\n",
       "      <td>80-84</td>\n",
       "      <td>913347</td>\n",
       "      <td>1416094</td>\n",
       "    </tr>\n",
       "    <tr>\n",
       "      <th>17</th>\n",
       "      <td>85-89</td>\n",
       "      <td>332878</td>\n",
       "      <td>649459</td>\n",
       "    </tr>\n",
       "    <tr>\n",
       "      <th>18</th>\n",
       "      <td>90-94</td>\n",
       "      <td>68926</td>\n",
       "      <td>184393</td>\n",
       "    </tr>\n",
       "    <tr>\n",
       "      <th>19</th>\n",
       "      <td>95-99</td>\n",
       "      <td>7774</td>\n",
       "      <td>27565</td>\n",
       "    </tr>\n",
       "  </tbody>\n",
       "</table>\n",
       "</div>"
      ],
      "text/plain": [
       "      Age        M        F\n",
       "0     0-4  7171418  6885774\n",
       "2   10-14  7623543  7332483\n",
       "20   100+      375     1923\n",
       "3   15-19  7989653  7712959\n",
       "4   20-24  8516657  8288782\n",
       "5   25-29  8611856  8454540\n",
       "6   30-34  8630945  8562379\n",
       "7   35-39  8724477  8776387\n",
       "8   40-44  8119996  8339004\n",
       "9   45-49  7075746  7421165\n",
       "1     5-9  7463198  7170449\n",
       "10  50-54  6257318  6716401\n",
       "11  55-59  5685899  6282244\n",
       "12  60-64  4762891  5471441\n",
       "13  65-69  3619199  4383537\n",
       "14  70-74  2559006  3314890\n",
       "15  75-79  1597921  2188597\n",
       "16  80-84   913347  1416094\n",
       "17  85-89   332878   649459\n",
       "18  90-94    68926   184393\n",
       "19  95-99     7774    27565"
      ]
     },
     "execution_count": 15,
     "metadata": {},
     "output_type": "execute_result"
    }
   ],
   "source": [
    "# demo_br_pivot = demo_br_pivot.reset_index()\n",
    "demo_br.sort_values(by='Age')"
   ]
  },
  {
   "cell_type": "code",
   "execution_count": null,
   "id": "70b3aab9",
   "metadata": {},
   "outputs": [],
   "source": [
    "demo_br_cp = demo_br.copy()"
   ]
  },
  {
   "cell_type": "code",
   "execution_count": null,
   "id": "67657771",
   "metadata": {},
   "outputs": [],
   "source": [
    "demo_br_cp['Age'] = demo_br_cp['Age'].str.strip().astype('str')"
   ]
  },
  {
   "cell_type": "code",
   "execution_count": null,
   "id": "7409f33c",
   "metadata": {},
   "outputs": [],
   "source": [
    "# demo_br_cp.melt(id_vars=list(demo_br_cp.index), var_name=['Age', 'Sexo'], value_name='Quantidade')\n",
    "# demo_br_cp_melt = demo_br_cp.melt(id_vars='Age', var_name='Sexo', value_name='Quantidade').info()\n",
    "demo_br_cp_melt.insert(loc=0, column='col_pivo', value= list(demo_br_cp_melt.index))\n",
    "\n"
   ]
  },
  {
   "cell_type": "code",
   "execution_count": null,
   "id": "71579575",
   "metadata": {
    "scrolled": false
   },
   "outputs": [],
   "source": [
    "# pd.pivot(data=demo_br_cp_melt, index='Age', columns='Sexo', values='Quantidade')\n",
    "pd.pivot_table(data=demo_br_cp_melt, index='Age', values='Quantidade', columns= 'Sexo')\n",
    "# demo_br_cp_melt"
   ]
  },
  {
   "cell_type": "code",
   "execution_count": null,
   "id": "e5466b6c",
   "metadata": {
    "scrolled": false
   },
   "outputs": [],
   "source": [
    "sns.catplot( data=demo_br_melt, x='Idade', y='Quantidade', hue='Sexo', kind='bar')\n",
    "sns.lineplot( data=demo_br_melt, x='Idade', y='Quantidade', hue='Sexo')\n",
    "\n",
    "plt.tight_layout()  # Ajusta automaticamente o espaçamento\n",
    "plt.xticks(rotation=45)\n",
    "\n",
    "plt.show()"
   ]
  },
  {
   "cell_type": "code",
   "execution_count": null,
   "id": "9304069c",
   "metadata": {},
   "outputs": [],
   "source": [
    "intervalo = [ pd.Interval(int(a), int(b), closed='both') if (a!='' and b!='') else pd.Interval(int(a), 110, closed='both') for (a, b) in demo_br_cp['Age'].str.replace('+','-', regex=True).str.split('-') ]"
   ]
  },
  {
   "cell_type": "code",
   "execution_count": null,
   "id": "160eace0",
   "metadata": {},
   "outputs": [],
   "source": [
    "index_interval = pd.IntervalIndex(intervalo)"
   ]
  },
  {
   "cell_type": "code",
   "execution_count": null,
   "id": "960f7b52",
   "metadata": {},
   "outputs": [],
   "source": [
    "# index_interval\n",
    "demo_br_cp['Age'] = index_interval"
   ]
  },
  {
   "cell_type": "code",
   "execution_count": null,
   "id": "e9995904",
   "metadata": {},
   "outputs": [],
   "source": [
    "demo_br_cp.rename(columns={'Age': 'Idade', 'M': 'Homens', 'F': \"Mulheres\"}, inplace=True)"
   ]
  },
  {
   "cell_type": "code",
   "execution_count": null,
   "id": "a68fc623",
   "metadata": {},
   "outputs": [],
   "source": [
    "demo_br_cp['Dif. (H-M)'] = demo_br_cp['Homens'] - demo_br_cp['Mulheres']\n",
    "demo_br_cp"
   ]
  },
  {
   "cell_type": "code",
   "execution_count": null,
   "id": "d3450d40",
   "metadata": {},
   "outputs": [],
   "source": [
    "# demo_br_cp.plot(x='Idade', y='Dif. (H-M)', kind='bar')\n",
    "demo_br_cp.set_index('Idade')['Dif. (H-M)']"
   ]
  },
  {
   "cell_type": "code",
   "execution_count": null,
   "id": "e193850e",
   "metadata": {},
   "outputs": [],
   "source": [
    "demo_br_cp.plot(x='Idade', kind='bar')\n",
    "demo_br_cp.plot(x='Idade', kind='line')"
   ]
  },
  {
   "cell_type": "code",
   "execution_count": null,
   "id": "e2365ba8",
   "metadata": {},
   "outputs": [],
   "source": [
    "demo_br_cp_melt = demo_br_cp.melt(id_vars='Age', var_name='Sexo', value_name='Quantidade')"
   ]
  },
  {
   "cell_type": "code",
   "execution_count": null,
   "id": "f7c8b93b",
   "metadata": {
    "scrolled": false
   },
   "outputs": [],
   "source": [
    "# teste= demo_br.melt(id_vars='Age', var_name='Sexo', value_name='Quantidade')\n",
    "demo_br_cp_melt.plot(demo_br_cp_melt['Age'], demo_br_cp_melt['Quantidade'], kind='line')\n",
    "# sns.lineplot(data=teste, x=teste['Age'], y=teste['Quantidade'], hue='Sexo')\n",
    "# sns.barplot(data=teste, x=teste['Age'], y=teste['Quantidade'], hue='Sexo')\n",
    "# plt.bar( demo_br_cp_melt['Age'], demo_br_cp_melt['Quantidade'])"
   ]
  },
  {
   "cell_type": "code",
   "execution_count": null,
   "id": "59c797a3",
   "metadata": {},
   "outputs": [],
   "source": [
    "demo_br_cp_melt.pivot(index='Age', columns='Sexo', values='Quantidade')"
   ]
  },
  {
   "cell_type": "markdown",
   "id": "9eaf9eb3",
   "metadata": {},
   "source": [
    "### Matrizes e Algebra Linear"
   ]
  },
  {
   "cell_type": "code",
   "execution_count": 17,
   "id": "0e011a0d",
   "metadata": {},
   "outputs": [],
   "source": [
    "import pandas as pd\n",
    "import numpy as np"
   ]
  },
  {
   "cell_type": "code",
   "execution_count": 18,
   "id": "50302457",
   "metadata": {},
   "outputs": [],
   "source": [
    "m1=np.array([[1,5,0],[4,7,4],[1,1,0]])\n",
    "m2=np.array([[7,0,3],[1,4,4],[6,1,0]])\n",
    "m3=np.array([[5],[1],[-2]])\n",
    "m4=np.array([[-2,1,3]]) "
   ]
  },
  {
   "cell_type": "code",
   "execution_count": 19,
   "id": "6ceb5fd8",
   "metadata": {
    "scrolled": true
   },
   "outputs": [
    {
     "name": "stdout",
     "output_type": "stream",
     "text": [
      "[[1 5 0]\n",
      " [4 7 4]\n",
      " [1 1 0]] \n",
      "\n",
      " [[7 0 3]\n",
      " [1 4 4]\n",
      " [6 1 0]]\n"
     ]
    }
   ],
   "source": [
    "print(m1,'\\n\\n',m2)"
   ]
  },
  {
   "cell_type": "markdown",
   "id": "1517228f",
   "metadata": {},
   "source": [
    "#### Multiplicação de matrizes"
   ]
  },
  {
   "cell_type": "code",
   "execution_count": 20,
   "id": "82c9444d",
   "metadata": {},
   "outputs": [
    {
     "data": {
      "text/plain": [
       "array([[10, 38,  0],\n",
       "       [21, 37, 16],\n",
       "       [10, 37,  4]])"
      ]
     },
     "execution_count": 20,
     "metadata": {},
     "output_type": "execute_result"
    }
   ],
   "source": [
    "np.dot(m2,m1)\n",
    "# np.dot(m1,m2)"
   ]
  },
  {
   "cell_type": "code",
   "execution_count": 21,
   "id": "d3f1978c",
   "metadata": {},
   "outputs": [
    {
     "data": {
      "text/plain": [
       "array([[12, 20, 23],\n",
       "       [59, 32, 40],\n",
       "       [ 8,  4,  7]])"
      ]
     },
     "execution_count": 21,
     "metadata": {},
     "output_type": "execute_result"
    }
   ],
   "source": [
    "m1@m2"
   ]
  },
  {
   "cell_type": "markdown",
   "id": "19963bb4",
   "metadata": {},
   "source": [
    "#### Matriz inversa "
   ]
  },
  {
   "cell_type": "code",
   "execution_count": 22,
   "id": "fd33f636",
   "metadata": {
    "scrolled": true
   },
   "outputs": [
    {
     "data": {
      "text/plain": [
       "array([[1., 0., 0.],\n",
       "       [0., 1., 0.],\n",
       "       [0., 0., 1.]])"
      ]
     },
     "execution_count": 22,
     "metadata": {},
     "output_type": "execute_result"
    }
   ],
   "source": [
    "np.linalg.inv(m1)@m1"
   ]
  },
  {
   "cell_type": "code",
   "execution_count": 23,
   "id": "dab8f5e3",
   "metadata": {},
   "outputs": [],
   "source": [
    "m2_inv = np.linalg.inv(m2)\n",
    "m1_inv = np.linalg.inv(m1)"
   ]
  },
  {
   "cell_type": "markdown",
   "id": "7d175afc",
   "metadata": {},
   "source": [
    "#### Matriz identidade"
   ]
  },
  {
   "cell_type": "code",
   "execution_count": 45,
   "id": "41f2f5ef",
   "metadata": {},
   "outputs": [
    {
     "data": {
      "text/plain": [
       "array([[1., 0., 0.],\n",
       "       [0., 1., 0.],\n",
       "       [0., 0., 1.]])"
      ]
     },
     "execution_count": 45,
     "metadata": {},
     "output_type": "execute_result"
    }
   ],
   "source": [
    "np.eye(3)"
   ]
  },
  {
   "cell_type": "markdown",
   "id": "6fddd1cc",
   "metadata": {},
   "source": [
    "#### Determinante"
   ]
  },
  {
   "cell_type": "code",
   "execution_count": null,
   "id": "6649cd56",
   "metadata": {},
   "outputs": [],
   "source": [
    "np.linalg.det(m1_inv)"
   ]
  },
  {
   "cell_type": "code",
   "execution_count": null,
   "id": "2aa7854f",
   "metadata": {},
   "outputs": [],
   "source": [
    "np.linalg.det(m1)"
   ]
  },
  {
   "cell_type": "code",
   "execution_count": null,
   "id": "193a22fc",
   "metadata": {},
   "outputs": [],
   "source": [
    "m3@m4"
   ]
  },
  {
   "cell_type": "markdown",
   "id": "09f10e1d",
   "metadata": {},
   "source": [
    "#### Criando uma matriz 3x3 com numeros aleatórios"
   ]
  },
  {
   "cell_type": "code",
   "execution_count": 47,
   "id": "b47c0ccd",
   "metadata": {},
   "outputs": [],
   "source": [
    "import random\n",
    "import matplotlib.pyplot as plt\n",
    "m5 = np.random.randint(0, high=10, size=(3,3), dtype=int)"
   ]
  },
  {
   "cell_type": "code",
   "execution_count": 48,
   "id": "679a57a8",
   "metadata": {},
   "outputs": [
    {
     "data": {
      "text/plain": [
       "-471.99999999999983"
      ]
     },
     "execution_count": 48,
     "metadata": {},
     "output_type": "execute_result"
    }
   ],
   "source": [
    "np.linalg.det(m5)"
   ]
  },
  {
   "cell_type": "code",
   "execution_count": 49,
   "id": "6a5eb0ee",
   "metadata": {},
   "outputs": [
    {
     "data": {
      "text/plain": [
       "array([[1., 0., 0.],\n",
       "       [0., 1., 0.],\n",
       "       [0., 0., 1.]])"
      ]
     },
     "execution_count": 49,
     "metadata": {},
     "output_type": "execute_result"
    }
   ],
   "source": [
    "np.linalg.inv(m1)@m1"
   ]
  },
  {
   "cell_type": "markdown",
   "id": "fc5300e4",
   "metadata": {},
   "source": [
    "### Regressão linear"
   ]
  },
  {
   "cell_type": "code",
   "execution_count": 50,
   "id": "728b0ca3",
   "metadata": {},
   "outputs": [],
   "source": [
    "from scipy import stats\n",
    "coordenadas = np.random.randint(0, high=10, size=(20,2), dtype=int)\n",
    "x = list(map(lambda x: x[0], coordenadas))\n",
    "y = list(map(lambda x: x[1], coordenadas))"
   ]
  },
  {
   "cell_type": "code",
   "execution_count": 51,
   "id": "7533a28c",
   "metadata": {
    "scrolled": false
   },
   "outputs": [
    {
     "data": {
      "image/png": "[encoded data removed]",
      "text/plain": [
       "<Figure size 500x500 with 1 Axes>"
      ]
     },
     "metadata": {},
     "output_type": "display_data"
    }
   ],
   "source": [
    "sizes = np.random.uniform(15, 80, len(x))\n",
    "colors = np.random.uniform(15, 80, len(x))\n",
    "\n",
    "fig, ax = plt.subplots(figsize=(5,5))\n",
    "\n",
    "ax.scatter(x, y, s=sizes, c=colors, vmin=0, vmax=100, label='Pares ordenados (x,y)')\n",
    "ax.legend()\n",
    "plt.grid(True)\n",
    "plt.box(False)\n",
    "# ax.set(xlim=(-110, 110), ylim=(-110, 110))\n",
    "\n",
    "plt.show()"
   ]
  },
  {
   "cell_type": "code",
   "execution_count": 52,
   "id": "0647ec19",
   "metadata": {},
   "outputs": [],
   "source": [
    "\n",
    "#Y = AX + B\n",
    "A = stats.linregress(x,y)[0]\n",
    "B = stats.linregress(x,y)[1]"
   ]
  },
  {
   "cell_type": "code",
   "execution_count": 53,
   "id": "ad194f2c",
   "metadata": {},
   "outputs": [
    {
     "data": {
      "image/png": "[encoded data removed]",
      "text/plain": [
       "<Figure size 500x500 with 1 Axes>"
      ]
     },
     "metadata": {},
     "output_type": "display_data"
    }
   ],
   "source": [
    "Y = [A*n for n in x] + B\n",
    "fig, ax = plt.subplots(figsize=(5,5))\n",
    "\n",
    "ax.scatter(x, y, label='Pares ordenados (x,y)', color='red', marker='x')\n",
    "\n",
    "ax.plot(x,Y, label='Dados', color='blue')\n",
    "plt.tight_layout()\n",
    "plt.show()"
   ]
  },
  {
   "cell_type": "code",
   "execution_count": 54,
   "id": "73119790",
   "metadata": {},
   "outputs": [
    {
     "data": {
      "image/png": "[encoded data removed]",
      "text/plain": [
       "<Figure size 640x480 with 1 Axes>"
      ]
     },
     "metadata": {},
     "output_type": "display_data"
    }
   ],
   "source": [
    "# Dados de exemplo (pares ordenados x e y)\n",
    "x = np.array([1, 2, 3, 4, 5])\n",
    "y = np.array([2, 3, 4, 5, 6])\n",
    "\n",
    "# Calcular a regressão linear\n",
    "slope, intercept, r_value, p_value, std_err = stats.linregress(x, y)\n",
    "\n",
    "# Calcular os valores previstos (y_pred) com base na regressão\n",
    "y_pred = slope * x + intercept\n",
    "\n",
    "# Plotar o gráfico de dispersão dos dados\n",
    "plt.scatter(x, y, label='Dados', color='blue')\n",
    "\n",
    "# Plotar a linha de regressão linear\n",
    "plt.plot(x, y_pred, label='Regressão Linear', color='red')\n",
    "\n",
    "# Adicionar rótulos aos eixos e um título\n",
    "plt.xlabel('Eixo X')\n",
    "plt.ylabel('Eixo Y')\n",
    "plt.title('Regressão Linear')\n",
    "\n",
    "# Adicionar uma legenda\n",
    "plt.legend()\n",
    "\n",
    "# Mostrar o gráfico\n",
    "plt.show()\n"
   ]
  },
  {
   "cell_type": "code",
   "execution_count": null,
   "id": "53888384",
   "metadata": {},
   "outputs": [],
   "source": []
  },
  {
   "cell_type": "code",
   "execution_count": null,
   "id": "bff666b3",
   "metadata": {},
   "outputs": [],
   "source": []
  },
  {
   "cell_type": "code",
   "execution_count": null,
   "id": "f38ec1de",
   "metadata": {},
   "outputs": [],
   "source": []
  },
  {
   "cell_type": "code",
   "execution_count": null,
   "id": "ed7c0b3f",
   "metadata": {},
   "outputs": [],
   "source": []
  },
  {
   "cell_type": "code",
   "execution_count": null,
   "id": "a251e227",
   "metadata": {},
   "outputs": [],
   "source": []
  }
 ],
 "metadata": {
  "kernelspec": {
   "display_name": "Python 3 (ipykernel)",
   "language": "python",
   "name": "python3"
  },
  "language_info": {
   "codemirror_mode": {
    "name": "ipython",
    "version": 3
   },
   "file_extension": ".py",
   "mimetype": "text/x-python",
   "name": "python",
   "nbconvert_exporter": "python",
   "pygments_lexer": "ipython3",
   "version": "3.10.9"
  }
 },
 "nbformat": 4,
 "nbformat_minor": 5
}
